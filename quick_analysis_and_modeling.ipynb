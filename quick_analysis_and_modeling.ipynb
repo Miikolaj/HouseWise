{
 "cells": [
  {
   "cell_type": "code",
   "execution_count": 21,
   "metadata": {
    "ExecuteTime": {
     "end_time": "2025-01-07T18:40:49.617906600Z",
     "start_time": "2025-01-07T18:40:49.595318500Z"
    }
   },
   "outputs": [],
   "source": [
    "import pandas as pd\n",
    "from ydata_profiling import ProfileReport\n",
    "import matplotlib.pyplot as plt\n",
    "import seaborn as sns\n",
    "from sklearn.metrics import mean_absolute_error, mean_squared_error, r2_score\n",
    "from sklearn.model_selection import train_test_split\n",
    "from sklearn.impute import SimpleImputer\n",
    "from sklearn.ensemble import RandomForestRegressor\n",
    "from sklearn.preprocessing import OneHotEncoder, StandardScaler\n",
    "from sklearn.compose import ColumnTransformer\n",
    "from sklearn.pipeline import Pipeline\n",
    "from sklearn.model_selection import cross_val_score\n",
    "import numpy as np\n",
    "\n"
   ]
  },
  {
   "cell_type": "code",
   "execution_count": 37,
   "metadata": {
    "ExecuteTime": {
     "end_time": "2025-01-07T19:22:18.212334100Z",
     "start_time": "2025-01-07T19:22:18.123958300Z"
    }
   },
   "outputs": [
    {
     "data": {
      "text/plain": "   OverallQual  GarageCars ExterQual  GrLivArea  FullBath KitchenQual  \\\n0            7           2        Gd       1710         2          Gd   \n1            6           2        TA       1262         2          TA   \n2            7           2        Gd       1786         2          Gd   \n3            7           3        TA       1717         1          Gd   \n4            8           3        Gd       2198         2          Gd   \n\n   YearBuilt  1stFlrSF BsmtQual  Fireplaces  SalePrice  \n0       2003       856       Gd           0     208500  \n1       1976      1262       Gd           1     181500  \n2       2001       920       Gd           1     223500  \n3       1915       961       TA           1     140000  \n4       2000      1145       Gd           1     250000  ",
      "text/html": "<div>\n<style scoped>\n    .dataframe tbody tr th:only-of-type {\n        vertical-align: middle;\n    }\n\n    .dataframe tbody tr th {\n        vertical-align: top;\n    }\n\n    .dataframe thead th {\n        text-align: right;\n    }\n</style>\n<table border=\"1\" class=\"dataframe\">\n  <thead>\n    <tr style=\"text-align: right;\">\n      <th></th>\n      <th>OverallQual</th>\n      <th>GarageCars</th>\n      <th>ExterQual</th>\n      <th>GrLivArea</th>\n      <th>FullBath</th>\n      <th>KitchenQual</th>\n      <th>YearBuilt</th>\n      <th>1stFlrSF</th>\n      <th>BsmtQual</th>\n      <th>Fireplaces</th>\n      <th>SalePrice</th>\n    </tr>\n  </thead>\n  <tbody>\n    <tr>\n      <th>0</th>\n      <td>7</td>\n      <td>2</td>\n      <td>Gd</td>\n      <td>1710</td>\n      <td>2</td>\n      <td>Gd</td>\n      <td>2003</td>\n      <td>856</td>\n      <td>Gd</td>\n      <td>0</td>\n      <td>208500</td>\n    </tr>\n    <tr>\n      <th>1</th>\n      <td>6</td>\n      <td>2</td>\n      <td>TA</td>\n      <td>1262</td>\n      <td>2</td>\n      <td>TA</td>\n      <td>1976</td>\n      <td>1262</td>\n      <td>Gd</td>\n      <td>1</td>\n      <td>181500</td>\n    </tr>\n    <tr>\n      <th>2</th>\n      <td>7</td>\n      <td>2</td>\n      <td>Gd</td>\n      <td>1786</td>\n      <td>2</td>\n      <td>Gd</td>\n      <td>2001</td>\n      <td>920</td>\n      <td>Gd</td>\n      <td>1</td>\n      <td>223500</td>\n    </tr>\n    <tr>\n      <th>3</th>\n      <td>7</td>\n      <td>3</td>\n      <td>TA</td>\n      <td>1717</td>\n      <td>1</td>\n      <td>Gd</td>\n      <td>1915</td>\n      <td>961</td>\n      <td>TA</td>\n      <td>1</td>\n      <td>140000</td>\n    </tr>\n    <tr>\n      <th>4</th>\n      <td>8</td>\n      <td>3</td>\n      <td>Gd</td>\n      <td>2198</td>\n      <td>2</td>\n      <td>Gd</td>\n      <td>2000</td>\n      <td>1145</td>\n      <td>Gd</td>\n      <td>1</td>\n      <td>250000</td>\n    </tr>\n  </tbody>\n</table>\n</div>"
     },
     "execution_count": 37,
     "metadata": {},
     "output_type": "execute_result"
    }
   ],
   "source": [
    "data = pd.read_csv('cleaned_dataset.csv')\n",
    "data.head()"
   ]
  },
  {
   "cell_type": "code",
   "execution_count": 38,
   "metadata": {
    "ExecuteTime": {
     "end_time": "2025-01-07T19:22:20.007080200Z",
     "start_time": "2025-01-07T19:22:19.976072500Z"
    }
   },
   "outputs": [
    {
     "name": "stdout",
     "output_type": "stream",
     "text": [
      "<class 'pandas.core.frame.DataFrame'>\n",
      "RangeIndex: 1460 entries, 0 to 1459\n",
      "Data columns (total 11 columns):\n",
      " #   Column       Non-Null Count  Dtype \n",
      "---  ------       --------------  ----- \n",
      " 0   OverallQual  1460 non-null   int64 \n",
      " 1   GarageCars   1460 non-null   int64 \n",
      " 2   ExterQual    1460 non-null   object\n",
      " 3   GrLivArea    1460 non-null   int64 \n",
      " 4   FullBath     1460 non-null   int64 \n",
      " 5   KitchenQual  1460 non-null   object\n",
      " 6   YearBuilt    1460 non-null   int64 \n",
      " 7   1stFlrSF     1460 non-null   int64 \n",
      " 8   BsmtQual     1423 non-null   object\n",
      " 9   Fireplaces   1460 non-null   int64 \n",
      " 10  SalePrice    1460 non-null   int64 \n",
      "dtypes: int64(8), object(3)\n",
      "memory usage: 125.6+ KB\n"
     ]
    }
   ],
   "source": [
    "data.info()"
   ]
  },
  {
   "cell_type": "code",
   "execution_count": 24,
   "metadata": {
    "ExecuteTime": {
     "end_time": "2025-01-07T18:40:52.191835200Z",
     "start_time": "2025-01-07T18:40:52.097066300Z"
    }
   },
   "outputs": [
    {
     "ename": "KeyError",
     "evalue": "\"['Id'] not found in axis\"",
     "output_type": "error",
     "traceback": [
      "\u001B[1;31m---------------------------------------------------------------------------\u001B[0m",
      "\u001B[1;31mKeyError\u001B[0m                                  Traceback (most recent call last)",
      "Cell \u001B[1;32mIn[24], line 1\u001B[0m\n\u001B[1;32m----> 1\u001B[0m \u001B[43mdata\u001B[49m\u001B[38;5;241;43m.\u001B[39;49m\u001B[43mdrop\u001B[49m\u001B[43m(\u001B[49m\u001B[43mcolumns\u001B[49m\u001B[38;5;241;43m=\u001B[39;49m\u001B[43m[\u001B[49m\u001B[38;5;124;43m\"\u001B[39;49m\u001B[38;5;124;43mId\u001B[39;49m\u001B[38;5;124;43m\"\u001B[39;49m\u001B[43m]\u001B[49m\u001B[43m,\u001B[49m\u001B[43m \u001B[49m\u001B[43minplace\u001B[49m\u001B[38;5;241;43m=\u001B[39;49m\u001B[38;5;28;43;01mTrue\u001B[39;49;00m\u001B[43m)\u001B[49m\n",
      "File \u001B[1;32mD:\\Rzeczy na Studia\\Semestr 7\\SUML\\HouseWise\\HouseWise\\venv\\Lib\\site-packages\\pandas\\core\\frame.py:5581\u001B[0m, in \u001B[0;36mDataFrame.drop\u001B[1;34m(self, labels, axis, index, columns, level, inplace, errors)\u001B[0m\n\u001B[0;32m   5433\u001B[0m \u001B[38;5;28;01mdef\u001B[39;00m\u001B[38;5;250m \u001B[39m\u001B[38;5;21mdrop\u001B[39m(\n\u001B[0;32m   5434\u001B[0m     \u001B[38;5;28mself\u001B[39m,\n\u001B[0;32m   5435\u001B[0m     labels: IndexLabel \u001B[38;5;241m|\u001B[39m \u001B[38;5;28;01mNone\u001B[39;00m \u001B[38;5;241m=\u001B[39m \u001B[38;5;28;01mNone\u001B[39;00m,\n\u001B[1;32m   (...)\u001B[0m\n\u001B[0;32m   5442\u001B[0m     errors: IgnoreRaise \u001B[38;5;241m=\u001B[39m \u001B[38;5;124m\"\u001B[39m\u001B[38;5;124mraise\u001B[39m\u001B[38;5;124m\"\u001B[39m,\n\u001B[0;32m   5443\u001B[0m ) \u001B[38;5;241m-\u001B[39m\u001B[38;5;241m>\u001B[39m DataFrame \u001B[38;5;241m|\u001B[39m \u001B[38;5;28;01mNone\u001B[39;00m:\n\u001B[0;32m   5444\u001B[0m \u001B[38;5;250m    \u001B[39m\u001B[38;5;124;03m\"\"\"\u001B[39;00m\n\u001B[0;32m   5445\u001B[0m \u001B[38;5;124;03m    Drop specified labels from rows or columns.\u001B[39;00m\n\u001B[0;32m   5446\u001B[0m \n\u001B[1;32m   (...)\u001B[0m\n\u001B[0;32m   5579\u001B[0m \u001B[38;5;124;03m            weight  1.0     0.8\u001B[39;00m\n\u001B[0;32m   5580\u001B[0m \u001B[38;5;124;03m    \"\"\"\u001B[39;00m\n\u001B[1;32m-> 5581\u001B[0m     \u001B[38;5;28;01mreturn\u001B[39;00m \u001B[38;5;28;43msuper\u001B[39;49m\u001B[43m(\u001B[49m\u001B[43m)\u001B[49m\u001B[38;5;241;43m.\u001B[39;49m\u001B[43mdrop\u001B[49m\u001B[43m(\u001B[49m\n\u001B[0;32m   5582\u001B[0m \u001B[43m        \u001B[49m\u001B[43mlabels\u001B[49m\u001B[38;5;241;43m=\u001B[39;49m\u001B[43mlabels\u001B[49m\u001B[43m,\u001B[49m\n\u001B[0;32m   5583\u001B[0m \u001B[43m        \u001B[49m\u001B[43maxis\u001B[49m\u001B[38;5;241;43m=\u001B[39;49m\u001B[43maxis\u001B[49m\u001B[43m,\u001B[49m\n\u001B[0;32m   5584\u001B[0m \u001B[43m        \u001B[49m\u001B[43mindex\u001B[49m\u001B[38;5;241;43m=\u001B[39;49m\u001B[43mindex\u001B[49m\u001B[43m,\u001B[49m\n\u001B[0;32m   5585\u001B[0m \u001B[43m        \u001B[49m\u001B[43mcolumns\u001B[49m\u001B[38;5;241;43m=\u001B[39;49m\u001B[43mcolumns\u001B[49m\u001B[43m,\u001B[49m\n\u001B[0;32m   5586\u001B[0m \u001B[43m        \u001B[49m\u001B[43mlevel\u001B[49m\u001B[38;5;241;43m=\u001B[39;49m\u001B[43mlevel\u001B[49m\u001B[43m,\u001B[49m\n\u001B[0;32m   5587\u001B[0m \u001B[43m        \u001B[49m\u001B[43minplace\u001B[49m\u001B[38;5;241;43m=\u001B[39;49m\u001B[43minplace\u001B[49m\u001B[43m,\u001B[49m\n\u001B[0;32m   5588\u001B[0m \u001B[43m        \u001B[49m\u001B[43merrors\u001B[49m\u001B[38;5;241;43m=\u001B[39;49m\u001B[43merrors\u001B[49m\u001B[43m,\u001B[49m\n\u001B[0;32m   5589\u001B[0m \u001B[43m    \u001B[49m\u001B[43m)\u001B[49m\n",
      "File \u001B[1;32mD:\\Rzeczy na Studia\\Semestr 7\\SUML\\HouseWise\\HouseWise\\venv\\Lib\\site-packages\\pandas\\core\\generic.py:4788\u001B[0m, in \u001B[0;36mNDFrame.drop\u001B[1;34m(self, labels, axis, index, columns, level, inplace, errors)\u001B[0m\n\u001B[0;32m   4786\u001B[0m \u001B[38;5;28;01mfor\u001B[39;00m axis, labels \u001B[38;5;129;01min\u001B[39;00m axes\u001B[38;5;241m.\u001B[39mitems():\n\u001B[0;32m   4787\u001B[0m     \u001B[38;5;28;01mif\u001B[39;00m labels \u001B[38;5;129;01mis\u001B[39;00m \u001B[38;5;129;01mnot\u001B[39;00m \u001B[38;5;28;01mNone\u001B[39;00m:\n\u001B[1;32m-> 4788\u001B[0m         obj \u001B[38;5;241m=\u001B[39m \u001B[43mobj\u001B[49m\u001B[38;5;241;43m.\u001B[39;49m\u001B[43m_drop_axis\u001B[49m\u001B[43m(\u001B[49m\u001B[43mlabels\u001B[49m\u001B[43m,\u001B[49m\u001B[43m \u001B[49m\u001B[43maxis\u001B[49m\u001B[43m,\u001B[49m\u001B[43m \u001B[49m\u001B[43mlevel\u001B[49m\u001B[38;5;241;43m=\u001B[39;49m\u001B[43mlevel\u001B[49m\u001B[43m,\u001B[49m\u001B[43m \u001B[49m\u001B[43merrors\u001B[49m\u001B[38;5;241;43m=\u001B[39;49m\u001B[43merrors\u001B[49m\u001B[43m)\u001B[49m\n\u001B[0;32m   4790\u001B[0m \u001B[38;5;28;01mif\u001B[39;00m inplace:\n\u001B[0;32m   4791\u001B[0m     \u001B[38;5;28mself\u001B[39m\u001B[38;5;241m.\u001B[39m_update_inplace(obj)\n",
      "File \u001B[1;32mD:\\Rzeczy na Studia\\Semestr 7\\SUML\\HouseWise\\HouseWise\\venv\\Lib\\site-packages\\pandas\\core\\generic.py:4830\u001B[0m, in \u001B[0;36mNDFrame._drop_axis\u001B[1;34m(self, labels, axis, level, errors, only_slice)\u001B[0m\n\u001B[0;32m   4828\u001B[0m         new_axis \u001B[38;5;241m=\u001B[39m axis\u001B[38;5;241m.\u001B[39mdrop(labels, level\u001B[38;5;241m=\u001B[39mlevel, errors\u001B[38;5;241m=\u001B[39merrors)\n\u001B[0;32m   4829\u001B[0m     \u001B[38;5;28;01melse\u001B[39;00m:\n\u001B[1;32m-> 4830\u001B[0m         new_axis \u001B[38;5;241m=\u001B[39m \u001B[43maxis\u001B[49m\u001B[38;5;241;43m.\u001B[39;49m\u001B[43mdrop\u001B[49m\u001B[43m(\u001B[49m\u001B[43mlabels\u001B[49m\u001B[43m,\u001B[49m\u001B[43m \u001B[49m\u001B[43merrors\u001B[49m\u001B[38;5;241;43m=\u001B[39;49m\u001B[43merrors\u001B[49m\u001B[43m)\u001B[49m\n\u001B[0;32m   4831\u001B[0m     indexer \u001B[38;5;241m=\u001B[39m axis\u001B[38;5;241m.\u001B[39mget_indexer(new_axis)\n\u001B[0;32m   4833\u001B[0m \u001B[38;5;66;03m# Case for non-unique axis\u001B[39;00m\n\u001B[0;32m   4834\u001B[0m \u001B[38;5;28;01melse\u001B[39;00m:\n",
      "File \u001B[1;32mD:\\Rzeczy na Studia\\Semestr 7\\SUML\\HouseWise\\HouseWise\\venv\\Lib\\site-packages\\pandas\\core\\indexes\\base.py:7070\u001B[0m, in \u001B[0;36mIndex.drop\u001B[1;34m(self, labels, errors)\u001B[0m\n\u001B[0;32m   7068\u001B[0m \u001B[38;5;28;01mif\u001B[39;00m mask\u001B[38;5;241m.\u001B[39many():\n\u001B[0;32m   7069\u001B[0m     \u001B[38;5;28;01mif\u001B[39;00m errors \u001B[38;5;241m!=\u001B[39m \u001B[38;5;124m\"\u001B[39m\u001B[38;5;124mignore\u001B[39m\u001B[38;5;124m\"\u001B[39m:\n\u001B[1;32m-> 7070\u001B[0m         \u001B[38;5;28;01mraise\u001B[39;00m \u001B[38;5;167;01mKeyError\u001B[39;00m(\u001B[38;5;124mf\u001B[39m\u001B[38;5;124m\"\u001B[39m\u001B[38;5;132;01m{\u001B[39;00mlabels[mask]\u001B[38;5;241m.\u001B[39mtolist()\u001B[38;5;132;01m}\u001B[39;00m\u001B[38;5;124m not found in axis\u001B[39m\u001B[38;5;124m\"\u001B[39m)\n\u001B[0;32m   7071\u001B[0m     indexer \u001B[38;5;241m=\u001B[39m indexer[\u001B[38;5;241m~\u001B[39mmask]\n\u001B[0;32m   7072\u001B[0m \u001B[38;5;28;01mreturn\u001B[39;00m \u001B[38;5;28mself\u001B[39m\u001B[38;5;241m.\u001B[39mdelete(indexer)\n",
      "\u001B[1;31mKeyError\u001B[0m: \"['Id'] not found in axis\""
     ]
    }
   ],
   "source": [
    "data.drop(columns=[\"Id\"], inplace=True)"
   ]
  },
  {
   "cell_type": "code",
   "execution_count": 32,
   "metadata": {
    "ExecuteTime": {
     "end_time": "2025-01-07T19:16:41.634407900Z",
     "start_time": "2025-01-07T19:16:16.622798900Z"
    }
   },
   "outputs": [
    {
     "data": {
      "text/plain": "Summarize dataset:   0%|          | 0/5 [00:00<?, ?it/s]",
      "application/vnd.jupyter.widget-view+json": {
       "version_major": 2,
       "version_minor": 0,
       "model_id": "29d6b35ec85e475d924d344b43a216e6"
      }
     },
     "metadata": {},
     "output_type": "display_data"
    },
    {
     "ename": "KeyboardInterrupt",
     "evalue": "",
     "output_type": "error",
     "traceback": [
      "\u001B[1;31m---------------------------------------------------------------------------\u001B[0m",
      "\u001B[1;31mKeyboardInterrupt\u001B[0m                         Traceback (most recent call last)",
      "Cell \u001B[1;32mIn[32], line 2\u001B[0m\n\u001B[0;32m      1\u001B[0m profile \u001B[38;5;241m=\u001B[39m ProfileReport(data, title\u001B[38;5;241m=\u001B[39m\u001B[38;5;124m\"\u001B[39m\u001B[38;5;124mHouse Prices\u001B[39m\u001B[38;5;124m\"\u001B[39m)\n\u001B[1;32m----> 2\u001B[0m \u001B[43mprofile\u001B[49m\u001B[38;5;241;43m.\u001B[39;49m\u001B[43mto_notebook_iframe\u001B[49m\u001B[43m(\u001B[49m\u001B[43m)\u001B[49m\n\u001B[0;32m      3\u001B[0m profile\u001B[38;5;241m.\u001B[39mto_file(\u001B[38;5;124m\"\u001B[39m\u001B[38;5;124mreports/profile_report.html\u001B[39m\u001B[38;5;124m\"\u001B[39m)\n",
      "File \u001B[1;32mD:\\Rzeczy na Studia\\Semestr 7\\SUML\\HouseWise\\HouseWise\\venv\\Lib\\site-packages\\ydata_profiling\\profile_report.py:521\u001B[0m, in \u001B[0;36mProfileReport.to_notebook_iframe\u001B[1;34m(self)\u001B[0m\n\u001B[0;32m    519\u001B[0m \u001B[38;5;28;01mwith\u001B[39;00m warnings\u001B[38;5;241m.\u001B[39mcatch_warnings():\n\u001B[0;32m    520\u001B[0m     warnings\u001B[38;5;241m.\u001B[39msimplefilter(\u001B[38;5;124m\"\u001B[39m\u001B[38;5;124mignore\u001B[39m\u001B[38;5;124m\"\u001B[39m)\n\u001B[1;32m--> 521\u001B[0m     display(\u001B[43mget_notebook_iframe\u001B[49m\u001B[43m(\u001B[49m\u001B[38;5;28;43mself\u001B[39;49m\u001B[38;5;241;43m.\u001B[39;49m\u001B[43mconfig\u001B[49m\u001B[43m,\u001B[49m\u001B[43m \u001B[49m\u001B[38;5;28;43mself\u001B[39;49m\u001B[43m)\u001B[49m)\n",
      "File \u001B[1;32mD:\\Rzeczy na Studia\\Semestr 7\\SUML\\HouseWise\\HouseWise\\venv\\Lib\\site-packages\\ydata_profiling\\report\\presentation\\flavours\\widget\\notebook.py:75\u001B[0m, in \u001B[0;36mget_notebook_iframe\u001B[1;34m(config, profile)\u001B[0m\n\u001B[0;32m     73\u001B[0m     output \u001B[38;5;241m=\u001B[39m get_notebook_iframe_src(config, profile)\n\u001B[0;32m     74\u001B[0m \u001B[38;5;28;01melif\u001B[39;00m attribute \u001B[38;5;241m==\u001B[39m IframeAttribute\u001B[38;5;241m.\u001B[39msrcdoc:\n\u001B[1;32m---> 75\u001B[0m     output \u001B[38;5;241m=\u001B[39m \u001B[43mget_notebook_iframe_srcdoc\u001B[49m\u001B[43m(\u001B[49m\u001B[43mconfig\u001B[49m\u001B[43m,\u001B[49m\u001B[43m \u001B[49m\u001B[43mprofile\u001B[49m\u001B[43m)\u001B[49m\n\u001B[0;32m     76\u001B[0m \u001B[38;5;28;01melse\u001B[39;00m:\n\u001B[0;32m     77\u001B[0m     \u001B[38;5;28;01mraise\u001B[39;00m \u001B[38;5;167;01mValueError\u001B[39;00m(\n\u001B[0;32m     78\u001B[0m         \u001B[38;5;124mf\u001B[39m\u001B[38;5;124m'\u001B[39m\u001B[38;5;124mIframe Attribute can be \u001B[39m\u001B[38;5;124m\"\u001B[39m\u001B[38;5;124msrc\u001B[39m\u001B[38;5;124m\"\u001B[39m\u001B[38;5;124m or \u001B[39m\u001B[38;5;124m\"\u001B[39m\u001B[38;5;124msrcdoc\u001B[39m\u001B[38;5;124m\"\u001B[39m\u001B[38;5;124m (current: \u001B[39m\u001B[38;5;132;01m{\u001B[39;00mattribute\u001B[38;5;132;01m}\u001B[39;00m\u001B[38;5;124m).\u001B[39m\u001B[38;5;124m'\u001B[39m\n\u001B[0;32m     79\u001B[0m     )\n",
      "File \u001B[1;32mD:\\Rzeczy na Studia\\Semestr 7\\SUML\\HouseWise\\HouseWise\\venv\\Lib\\site-packages\\ydata_profiling\\report\\presentation\\flavours\\widget\\notebook.py:29\u001B[0m, in \u001B[0;36mget_notebook_iframe_srcdoc\u001B[1;34m(config, profile)\u001B[0m\n\u001B[0;32m     27\u001B[0m width \u001B[38;5;241m=\u001B[39m config\u001B[38;5;241m.\u001B[39mnotebook\u001B[38;5;241m.\u001B[39miframe\u001B[38;5;241m.\u001B[39mwidth\n\u001B[0;32m     28\u001B[0m height \u001B[38;5;241m=\u001B[39m config\u001B[38;5;241m.\u001B[39mnotebook\u001B[38;5;241m.\u001B[39miframe\u001B[38;5;241m.\u001B[39mheight\n\u001B[1;32m---> 29\u001B[0m src \u001B[38;5;241m=\u001B[39m html\u001B[38;5;241m.\u001B[39mescape(\u001B[43mprofile\u001B[49m\u001B[38;5;241;43m.\u001B[39;49m\u001B[43mto_html\u001B[49m\u001B[43m(\u001B[49m\u001B[43m)\u001B[49m)\n\u001B[0;32m     31\u001B[0m iframe \u001B[38;5;241m=\u001B[39m \u001B[38;5;124mf\u001B[39m\u001B[38;5;124m'\u001B[39m\u001B[38;5;124m<iframe width=\u001B[39m\u001B[38;5;124m\"\u001B[39m\u001B[38;5;132;01m{\u001B[39;00mwidth\u001B[38;5;132;01m}\u001B[39;00m\u001B[38;5;124m\"\u001B[39m\u001B[38;5;124m height=\u001B[39m\u001B[38;5;124m\"\u001B[39m\u001B[38;5;132;01m{\u001B[39;00mheight\u001B[38;5;132;01m}\u001B[39;00m\u001B[38;5;124m\"\u001B[39m\u001B[38;5;124m srcdoc=\u001B[39m\u001B[38;5;124m\"\u001B[39m\u001B[38;5;132;01m{\u001B[39;00msrc\u001B[38;5;132;01m}\u001B[39;00m\u001B[38;5;124m\"\u001B[39m\u001B[38;5;124m frameborder=\u001B[39m\u001B[38;5;124m\"\u001B[39m\u001B[38;5;124m0\u001B[39m\u001B[38;5;124m\"\u001B[39m\u001B[38;5;124m allowfullscreen></iframe>\u001B[39m\u001B[38;5;124m'\u001B[39m\n\u001B[0;32m     33\u001B[0m \u001B[38;5;28;01mreturn\u001B[39;00m HTML(iframe)\n",
      "File \u001B[1;32mD:\\Rzeczy na Studia\\Semestr 7\\SUML\\HouseWise\\HouseWise\\venv\\Lib\\site-packages\\ydata_profiling\\profile_report.py:491\u001B[0m, in \u001B[0;36mProfileReport.to_html\u001B[1;34m(self)\u001B[0m\n\u001B[0;32m    483\u001B[0m \u001B[38;5;28;01mdef\u001B[39;00m\u001B[38;5;250m \u001B[39m\u001B[38;5;21mto_html\u001B[39m(\u001B[38;5;28mself\u001B[39m) \u001B[38;5;241m-\u001B[39m\u001B[38;5;241m>\u001B[39m \u001B[38;5;28mstr\u001B[39m:\n\u001B[0;32m    484\u001B[0m \u001B[38;5;250m    \u001B[39m\u001B[38;5;124;03m\"\"\"Generate and return complete template as lengthy string\u001B[39;00m\n\u001B[0;32m    485\u001B[0m \u001B[38;5;124;03m        for using with frameworks.\u001B[39;00m\n\u001B[0;32m    486\u001B[0m \n\u001B[1;32m   (...)\u001B[0m\n\u001B[0;32m    489\u001B[0m \n\u001B[0;32m    490\u001B[0m \u001B[38;5;124;03m    \"\"\"\u001B[39;00m\n\u001B[1;32m--> 491\u001B[0m     \u001B[38;5;28;01mreturn\u001B[39;00m \u001B[38;5;28;43mself\u001B[39;49m\u001B[38;5;241;43m.\u001B[39;49m\u001B[43mhtml\u001B[49m\n",
      "File \u001B[1;32mD:\\Rzeczy na Studia\\Semestr 7\\SUML\\HouseWise\\HouseWise\\venv\\Lib\\site-packages\\ydata_profiling\\profile_report.py:287\u001B[0m, in \u001B[0;36mProfileReport.html\u001B[1;34m(self)\u001B[0m\n\u001B[0;32m    284\u001B[0m \u001B[38;5;129m@property\u001B[39m\n\u001B[0;32m    285\u001B[0m \u001B[38;5;28;01mdef\u001B[39;00m\u001B[38;5;250m \u001B[39m\u001B[38;5;21mhtml\u001B[39m(\u001B[38;5;28mself\u001B[39m) \u001B[38;5;241m-\u001B[39m\u001B[38;5;241m>\u001B[39m \u001B[38;5;28mstr\u001B[39m:\n\u001B[0;32m    286\u001B[0m     \u001B[38;5;28;01mif\u001B[39;00m \u001B[38;5;28mself\u001B[39m\u001B[38;5;241m.\u001B[39m_html \u001B[38;5;129;01mis\u001B[39;00m \u001B[38;5;28;01mNone\u001B[39;00m:\n\u001B[1;32m--> 287\u001B[0m         \u001B[38;5;28mself\u001B[39m\u001B[38;5;241m.\u001B[39m_html \u001B[38;5;241m=\u001B[39m \u001B[38;5;28;43mself\u001B[39;49m\u001B[38;5;241;43m.\u001B[39;49m\u001B[43m_render_html\u001B[49m\u001B[43m(\u001B[49m\u001B[43m)\u001B[49m\n\u001B[0;32m    288\u001B[0m     \u001B[38;5;28;01mreturn\u001B[39;00m \u001B[38;5;28mself\u001B[39m\u001B[38;5;241m.\u001B[39m_html\n",
      "File \u001B[1;32mD:\\Rzeczy na Studia\\Semestr 7\\SUML\\HouseWise\\HouseWise\\venv\\Lib\\site-packages\\ydata_profiling\\profile_report.py:404\u001B[0m, in \u001B[0;36mProfileReport._render_html\u001B[1;34m(self)\u001B[0m\n\u001B[0;32m    401\u001B[0m \u001B[38;5;28;01mdef\u001B[39;00m\u001B[38;5;250m \u001B[39m\u001B[38;5;21m_render_html\u001B[39m(\u001B[38;5;28mself\u001B[39m) \u001B[38;5;241m-\u001B[39m\u001B[38;5;241m>\u001B[39m \u001B[38;5;28mstr\u001B[39m:\n\u001B[0;32m    402\u001B[0m     \u001B[38;5;28;01mfrom\u001B[39;00m\u001B[38;5;250m \u001B[39m\u001B[38;5;21;01mydata_profiling\u001B[39;00m\u001B[38;5;21;01m.\u001B[39;00m\u001B[38;5;21;01mreport\u001B[39;00m\u001B[38;5;21;01m.\u001B[39;00m\u001B[38;5;21;01mpresentation\u001B[39;00m\u001B[38;5;21;01m.\u001B[39;00m\u001B[38;5;21;01mflavours\u001B[39;00m\u001B[38;5;250m \u001B[39m\u001B[38;5;28;01mimport\u001B[39;00m HTMLReport\n\u001B[1;32m--> 404\u001B[0m     report \u001B[38;5;241m=\u001B[39m \u001B[38;5;28;43mself\u001B[39;49m\u001B[38;5;241;43m.\u001B[39;49m\u001B[43mreport\u001B[49m\n\u001B[0;32m    406\u001B[0m     \u001B[38;5;28;01mwith\u001B[39;00m tqdm(\n\u001B[0;32m    407\u001B[0m         total\u001B[38;5;241m=\u001B[39m\u001B[38;5;241m1\u001B[39m, desc\u001B[38;5;241m=\u001B[39m\u001B[38;5;124m\"\u001B[39m\u001B[38;5;124mRender HTML\u001B[39m\u001B[38;5;124m\"\u001B[39m, disable\u001B[38;5;241m=\u001B[39m\u001B[38;5;129;01mnot\u001B[39;00m \u001B[38;5;28mself\u001B[39m\u001B[38;5;241m.\u001B[39mconfig\u001B[38;5;241m.\u001B[39mprogress_bar\n\u001B[0;32m    408\u001B[0m     ) \u001B[38;5;28;01mas\u001B[39;00m pbar:\n\u001B[0;32m    409\u001B[0m         html \u001B[38;5;241m=\u001B[39m HTMLReport(copy\u001B[38;5;241m.\u001B[39mdeepcopy(report))\u001B[38;5;241m.\u001B[39mrender(\n\u001B[0;32m    410\u001B[0m             nav\u001B[38;5;241m=\u001B[39m\u001B[38;5;28mself\u001B[39m\u001B[38;5;241m.\u001B[39mconfig\u001B[38;5;241m.\u001B[39mhtml\u001B[38;5;241m.\u001B[39mnavbar_show,\n\u001B[0;32m    411\u001B[0m             offline\u001B[38;5;241m=\u001B[39m\u001B[38;5;28mself\u001B[39m\u001B[38;5;241m.\u001B[39mconfig\u001B[38;5;241m.\u001B[39mhtml\u001B[38;5;241m.\u001B[39muse_local_assets,\n\u001B[1;32m   (...)\u001B[0m\n\u001B[0;32m    419\u001B[0m             version\u001B[38;5;241m=\u001B[39m\u001B[38;5;28mself\u001B[39m\u001B[38;5;241m.\u001B[39mdescription_set\u001B[38;5;241m.\u001B[39mpackage[\u001B[38;5;124m\"\u001B[39m\u001B[38;5;124mydata_profiling_version\u001B[39m\u001B[38;5;124m\"\u001B[39m],\n\u001B[0;32m    420\u001B[0m         )\n",
      "File \u001B[1;32mD:\\Rzeczy na Studia\\Semestr 7\\SUML\\HouseWise\\HouseWise\\venv\\Lib\\site-packages\\ydata_profiling\\profile_report.py:281\u001B[0m, in \u001B[0;36mProfileReport.report\u001B[1;34m(self)\u001B[0m\n\u001B[0;32m    278\u001B[0m \u001B[38;5;129m@property\u001B[39m\n\u001B[0;32m    279\u001B[0m \u001B[38;5;28;01mdef\u001B[39;00m\u001B[38;5;250m \u001B[39m\u001B[38;5;21mreport\u001B[39m(\u001B[38;5;28mself\u001B[39m) \u001B[38;5;241m-\u001B[39m\u001B[38;5;241m>\u001B[39m Root:\n\u001B[0;32m    280\u001B[0m     \u001B[38;5;28;01mif\u001B[39;00m \u001B[38;5;28mself\u001B[39m\u001B[38;5;241m.\u001B[39m_report \u001B[38;5;129;01mis\u001B[39;00m \u001B[38;5;28;01mNone\u001B[39;00m:\n\u001B[1;32m--> 281\u001B[0m         \u001B[38;5;28mself\u001B[39m\u001B[38;5;241m.\u001B[39m_report \u001B[38;5;241m=\u001B[39m get_report_structure(\u001B[38;5;28mself\u001B[39m\u001B[38;5;241m.\u001B[39mconfig, \u001B[38;5;28;43mself\u001B[39;49m\u001B[38;5;241;43m.\u001B[39;49m\u001B[43mdescription_set\u001B[49m)\n\u001B[0;32m    282\u001B[0m     \u001B[38;5;28;01mreturn\u001B[39;00m \u001B[38;5;28mself\u001B[39m\u001B[38;5;241m.\u001B[39m_report\n",
      "File \u001B[1;32mD:\\Rzeczy na Studia\\Semestr 7\\SUML\\HouseWise\\HouseWise\\venv\\Lib\\site-packages\\ydata_profiling\\profile_report.py:263\u001B[0m, in \u001B[0;36mProfileReport.description_set\u001B[1;34m(self)\u001B[0m\n\u001B[0;32m    260\u001B[0m \u001B[38;5;129m@property\u001B[39m\n\u001B[0;32m    261\u001B[0m \u001B[38;5;28;01mdef\u001B[39;00m\u001B[38;5;250m \u001B[39m\u001B[38;5;21mdescription_set\u001B[39m(\u001B[38;5;28mself\u001B[39m) \u001B[38;5;241m-\u001B[39m\u001B[38;5;241m>\u001B[39m BaseDescription:\n\u001B[0;32m    262\u001B[0m     \u001B[38;5;28;01mif\u001B[39;00m \u001B[38;5;28mself\u001B[39m\u001B[38;5;241m.\u001B[39m_description_set \u001B[38;5;129;01mis\u001B[39;00m \u001B[38;5;28;01mNone\u001B[39;00m:\n\u001B[1;32m--> 263\u001B[0m         \u001B[38;5;28mself\u001B[39m\u001B[38;5;241m.\u001B[39m_description_set \u001B[38;5;241m=\u001B[39m \u001B[43mdescribe_df\u001B[49m\u001B[43m(\u001B[49m\n\u001B[0;32m    264\u001B[0m \u001B[43m            \u001B[49m\u001B[38;5;28;43mself\u001B[39;49m\u001B[38;5;241;43m.\u001B[39;49m\u001B[43mconfig\u001B[49m\u001B[43m,\u001B[49m\n\u001B[0;32m    265\u001B[0m \u001B[43m            \u001B[49m\u001B[38;5;28;43mself\u001B[39;49m\u001B[38;5;241;43m.\u001B[39;49m\u001B[43mdf\u001B[49m\u001B[43m,\u001B[49m\n\u001B[0;32m    266\u001B[0m \u001B[43m            \u001B[49m\u001B[38;5;28;43mself\u001B[39;49m\u001B[38;5;241;43m.\u001B[39;49m\u001B[43msummarizer\u001B[49m\u001B[43m,\u001B[49m\n\u001B[0;32m    267\u001B[0m \u001B[43m            \u001B[49m\u001B[38;5;28;43mself\u001B[39;49m\u001B[38;5;241;43m.\u001B[39;49m\u001B[43mtypeset\u001B[49m\u001B[43m,\u001B[49m\n\u001B[0;32m    268\u001B[0m \u001B[43m            \u001B[49m\u001B[38;5;28;43mself\u001B[39;49m\u001B[38;5;241;43m.\u001B[39;49m\u001B[43m_sample\u001B[49m\u001B[43m,\u001B[49m\n\u001B[0;32m    269\u001B[0m \u001B[43m        \u001B[49m\u001B[43m)\u001B[49m\n\u001B[0;32m    270\u001B[0m     \u001B[38;5;28;01mreturn\u001B[39;00m \u001B[38;5;28mself\u001B[39m\u001B[38;5;241m.\u001B[39m_description_set\n",
      "File \u001B[1;32mD:\\Rzeczy na Studia\\Semestr 7\\SUML\\HouseWise\\HouseWise\\venv\\Lib\\site-packages\\ydata_profiling\\model\\describe.py:107\u001B[0m, in \u001B[0;36mdescribe\u001B[1;34m(config, df, summarizer, typeset, sample)\u001B[0m\n\u001B[0;32m    103\u001B[0m correlation_names \u001B[38;5;241m=\u001B[39m get_active_correlations(config)\n\u001B[0;32m    104\u001B[0m pbar\u001B[38;5;241m.\u001B[39mtotal \u001B[38;5;241m+\u001B[39m\u001B[38;5;241m=\u001B[39m \u001B[38;5;28mlen\u001B[39m(correlation_names)\n\u001B[0;32m    106\u001B[0m correlations \u001B[38;5;241m=\u001B[39m {\n\u001B[1;32m--> 107\u001B[0m     correlation_name: \u001B[43mprogress\u001B[49m\u001B[43m(\u001B[49m\n\u001B[0;32m    108\u001B[0m \u001B[43m        \u001B[49m\u001B[43mcalculate_correlation\u001B[49m\u001B[43m,\u001B[49m\n\u001B[0;32m    109\u001B[0m \u001B[43m        \u001B[49m\u001B[43mpbar\u001B[49m\u001B[43m,\u001B[49m\n\u001B[0;32m    110\u001B[0m \u001B[43m        \u001B[49m\u001B[38;5;124;43mf\u001B[39;49m\u001B[38;5;124;43m\"\u001B[39;49m\u001B[38;5;124;43mCalculate \u001B[39;49m\u001B[38;5;132;43;01m{\u001B[39;49;00m\u001B[43mcorrelation_name\u001B[49m\u001B[38;5;132;43;01m}\u001B[39;49;00m\u001B[38;5;124;43m correlation\u001B[39;49m\u001B[38;5;124;43m\"\u001B[39;49m\u001B[43m,\u001B[49m\n\u001B[0;32m    111\u001B[0m \u001B[43m    \u001B[49m\u001B[43m)\u001B[49m\u001B[43m(\u001B[49m\u001B[43mconfig\u001B[49m\u001B[43m,\u001B[49m\u001B[43m \u001B[49m\u001B[43mdf\u001B[49m\u001B[43m,\u001B[49m\u001B[43m \u001B[49m\u001B[43mcorrelation_name\u001B[49m\u001B[43m,\u001B[49m\u001B[43m \u001B[49m\u001B[43mseries_description\u001B[49m\u001B[43m)\u001B[49m\n\u001B[0;32m    112\u001B[0m     \u001B[38;5;28;01mfor\u001B[39;00m correlation_name \u001B[38;5;129;01min\u001B[39;00m correlation_names\n\u001B[0;32m    113\u001B[0m }\n\u001B[0;32m    115\u001B[0m \u001B[38;5;66;03m# make sure correlations is not None\u001B[39;00m\n\u001B[0;32m    116\u001B[0m correlations \u001B[38;5;241m=\u001B[39m {\n\u001B[0;32m    117\u001B[0m     key: value \u001B[38;5;28;01mfor\u001B[39;00m key, value \u001B[38;5;129;01min\u001B[39;00m correlations\u001B[38;5;241m.\u001B[39mitems() \u001B[38;5;28;01mif\u001B[39;00m value \u001B[38;5;129;01mis\u001B[39;00m \u001B[38;5;129;01mnot\u001B[39;00m \u001B[38;5;28;01mNone\u001B[39;00m\n\u001B[0;32m    118\u001B[0m }\n",
      "File \u001B[1;32mD:\\Rzeczy na Studia\\Semestr 7\\SUML\\HouseWise\\HouseWise\\venv\\Lib\\site-packages\\ydata_profiling\\utils\\progress_bar.py:11\u001B[0m, in \u001B[0;36mprogress.<locals>.inner\u001B[1;34m(*args, **kwargs)\u001B[0m\n\u001B[0;32m      8\u001B[0m \u001B[38;5;129m@wraps\u001B[39m(fn)\n\u001B[0;32m      9\u001B[0m \u001B[38;5;28;01mdef\u001B[39;00m\u001B[38;5;250m \u001B[39m\u001B[38;5;21minner\u001B[39m(\u001B[38;5;241m*\u001B[39margs, \u001B[38;5;241m*\u001B[39m\u001B[38;5;241m*\u001B[39mkwargs) \u001B[38;5;241m-\u001B[39m\u001B[38;5;241m>\u001B[39m Any:\n\u001B[0;32m     10\u001B[0m     bar\u001B[38;5;241m.\u001B[39mset_postfix_str(message)\n\u001B[1;32m---> 11\u001B[0m     ret \u001B[38;5;241m=\u001B[39m \u001B[43mfn\u001B[49m\u001B[43m(\u001B[49m\u001B[38;5;241;43m*\u001B[39;49m\u001B[43margs\u001B[49m\u001B[43m,\u001B[49m\u001B[43m \u001B[49m\u001B[38;5;241;43m*\u001B[39;49m\u001B[38;5;241;43m*\u001B[39;49m\u001B[43mkwargs\u001B[49m\u001B[43m)\u001B[49m\n\u001B[0;32m     12\u001B[0m     bar\u001B[38;5;241m.\u001B[39mupdate()\n\u001B[0;32m     13\u001B[0m     \u001B[38;5;28;01mreturn\u001B[39;00m ret\n",
      "File \u001B[1;32mD:\\Rzeczy na Studia\\Semestr 7\\SUML\\HouseWise\\HouseWise\\venv\\Lib\\site-packages\\ydata_profiling\\model\\correlations.py:102\u001B[0m, in \u001B[0;36mcalculate_correlation\u001B[1;34m(config, df, correlation_name, summary)\u001B[0m\n\u001B[0;32m    100\u001B[0m correlation \u001B[38;5;241m=\u001B[39m \u001B[38;5;28;01mNone\u001B[39;00m\n\u001B[0;32m    101\u001B[0m \u001B[38;5;28;01mtry\u001B[39;00m:\n\u001B[1;32m--> 102\u001B[0m     correlation \u001B[38;5;241m=\u001B[39m \u001B[43mcorrelation_measures\u001B[49m\u001B[43m[\u001B[49m\u001B[43mcorrelation_name\u001B[49m\u001B[43m]\u001B[49m\u001B[38;5;241;43m.\u001B[39;49m\u001B[43mcompute\u001B[49m\u001B[43m(\u001B[49m\n\u001B[0;32m    103\u001B[0m \u001B[43m        \u001B[49m\u001B[43mconfig\u001B[49m\u001B[43m,\u001B[49m\u001B[43m \u001B[49m\u001B[43mdf\u001B[49m\u001B[43m,\u001B[49m\u001B[43m \u001B[49m\u001B[43msummary\u001B[49m\n\u001B[0;32m    104\u001B[0m \u001B[43m    \u001B[49m\u001B[43m)\u001B[49m\n\u001B[0;32m    105\u001B[0m \u001B[38;5;28;01mexcept\u001B[39;00m (\u001B[38;5;167;01mValueError\u001B[39;00m, \u001B[38;5;167;01mAssertionError\u001B[39;00m, \u001B[38;5;167;01mTypeError\u001B[39;00m, DataError, \u001B[38;5;167;01mIndexError\u001B[39;00m) \u001B[38;5;28;01mas\u001B[39;00m e:\n\u001B[0;32m    106\u001B[0m     warn_correlation(correlation_name, \u001B[38;5;28mstr\u001B[39m(e))\n",
      "File \u001B[1;32mD:\\Rzeczy na Studia\\Semestr 7\\SUML\\HouseWise\\HouseWise\\venv\\Lib\\site-packages\\multimethod\\__init__.py:375\u001B[0m, in \u001B[0;36mmultimethod.__call__\u001B[1;34m(self, *args, **kwargs)\u001B[0m\n\u001B[0;32m    373\u001B[0m func \u001B[38;5;241m=\u001B[39m \u001B[38;5;28mself\u001B[39m\u001B[38;5;241m.\u001B[39mdispatch(\u001B[38;5;241m*\u001B[39margs)\n\u001B[0;32m    374\u001B[0m \u001B[38;5;28;01mtry\u001B[39;00m:\n\u001B[1;32m--> 375\u001B[0m     \u001B[38;5;28;01mreturn\u001B[39;00m \u001B[43mfunc\u001B[49m\u001B[43m(\u001B[49m\u001B[38;5;241;43m*\u001B[39;49m\u001B[43margs\u001B[49m\u001B[43m,\u001B[49m\u001B[43m \u001B[49m\u001B[38;5;241;43m*\u001B[39;49m\u001B[38;5;241;43m*\u001B[39;49m\u001B[43mkwargs\u001B[49m\u001B[43m)\u001B[49m\n\u001B[0;32m    376\u001B[0m \u001B[38;5;28;01mexcept\u001B[39;00m \u001B[38;5;167;01mTypeError\u001B[39;00m \u001B[38;5;28;01mas\u001B[39;00m ex:\n\u001B[0;32m    377\u001B[0m     \u001B[38;5;28;01mraise\u001B[39;00m DispatchError(\u001B[38;5;124mf\u001B[39m\u001B[38;5;124m\"\u001B[39m\u001B[38;5;124mFunction \u001B[39m\u001B[38;5;132;01m{\u001B[39;00mfunc\u001B[38;5;241m.\u001B[39m\u001B[38;5;18m__code__\u001B[39m\u001B[38;5;132;01m}\u001B[39;00m\u001B[38;5;124m\"\u001B[39m) \u001B[38;5;28;01mfrom\u001B[39;00m\u001B[38;5;250m \u001B[39m\u001B[38;5;21;01mex\u001B[39;00m\n",
      "File \u001B[1;32mD:\\Rzeczy na Studia\\Semestr 7\\SUML\\HouseWise\\HouseWise\\venv\\Lib\\site-packages\\ydata_profiling\\model\\pandas\\correlations_pandas.py:213\u001B[0m, in \u001B[0;36mpandas_auto_compute\u001B[1;34m(config, df, summary)\u001B[0m\n\u001B[0;32m    206\u001B[0m     \u001B[38;5;28;01mdef\u001B[39;00m\u001B[38;5;250m \u001B[39m\u001B[38;5;21mf\u001B[39m(col_name: \u001B[38;5;28mstr\u001B[39m, method: Callable) \u001B[38;5;241m-\u001B[39m\u001B[38;5;241m>\u001B[39m pd\u001B[38;5;241m.\u001B[39mSeries:\n\u001B[0;32m    207\u001B[0m         \u001B[38;5;28;01mreturn\u001B[39;00m (\n\u001B[0;32m    208\u001B[0m             df_discretized\n\u001B[0;32m    209\u001B[0m             \u001B[38;5;28;01mif\u001B[39;00m col_name \u001B[38;5;129;01min\u001B[39;00m numerical_columns \u001B[38;5;129;01mand\u001B[39;00m method \u001B[38;5;129;01mis\u001B[39;00m _pairwise_cramers\n\u001B[0;32m    210\u001B[0m             \u001B[38;5;28;01melse\u001B[39;00m df\n\u001B[0;32m    211\u001B[0m         )\n\u001B[1;32m--> 213\u001B[0m     score \u001B[38;5;241m=\u001B[39m \u001B[43mmethod\u001B[49m\u001B[43m(\u001B[49m\n\u001B[0;32m    214\u001B[0m \u001B[43m        \u001B[49m\u001B[43mf\u001B[49m\u001B[43m(\u001B[49m\u001B[43mcol_1_name\u001B[49m\u001B[43m,\u001B[49m\u001B[43m \u001B[49m\u001B[43mmethod\u001B[49m\u001B[43m)\u001B[49m\u001B[43m[\u001B[49m\u001B[43mcol_1_name\u001B[49m\u001B[43m]\u001B[49m\u001B[43m,\u001B[49m\u001B[43m \u001B[49m\u001B[43mf\u001B[49m\u001B[43m(\u001B[49m\u001B[43mcol_2_name\u001B[49m\u001B[43m,\u001B[49m\u001B[43m \u001B[49m\u001B[43mmethod\u001B[49m\u001B[43m)\u001B[49m\u001B[43m[\u001B[49m\u001B[43mcol_2_name\u001B[49m\u001B[43m]\u001B[49m\n\u001B[0;32m    215\u001B[0m \u001B[43m    \u001B[49m\u001B[43m)\u001B[49m\n\u001B[0;32m    216\u001B[0m     (\n\u001B[0;32m    217\u001B[0m         correlation_matrix\u001B[38;5;241m.\u001B[39mloc[col_1_name, col_2_name],\n\u001B[0;32m    218\u001B[0m         correlation_matrix\u001B[38;5;241m.\u001B[39mloc[col_2_name, col_1_name],\n\u001B[0;32m    219\u001B[0m     ) \u001B[38;5;241m=\u001B[39m (score, score)\n\u001B[0;32m    221\u001B[0m \u001B[38;5;28;01mreturn\u001B[39;00m correlation_matrix\n",
      "File \u001B[1;32mD:\\Rzeczy na Studia\\Semestr 7\\SUML\\HouseWise\\HouseWise\\venv\\Lib\\site-packages\\ydata_profiling\\model\\pandas\\correlations_pandas.py:87\u001B[0m, in \u001B[0;36m_pairwise_cramers\u001B[1;34m(col_1, col_2)\u001B[0m\n\u001B[0;32m     86\u001B[0m \u001B[38;5;28;01mdef\u001B[39;00m\u001B[38;5;250m \u001B[39m\u001B[38;5;21m_pairwise_cramers\u001B[39m(col_1: pd\u001B[38;5;241m.\u001B[39mSeries, col_2: pd\u001B[38;5;241m.\u001B[39mSeries) \u001B[38;5;241m-\u001B[39m\u001B[38;5;241m>\u001B[39m \u001B[38;5;28mfloat\u001B[39m:\n\u001B[1;32m---> 87\u001B[0m     \u001B[38;5;28;01mreturn\u001B[39;00m _cramers_corrected_stat(\u001B[43mpd\u001B[49m\u001B[38;5;241;43m.\u001B[39;49m\u001B[43mcrosstab\u001B[49m\u001B[43m(\u001B[49m\u001B[43mcol_1\u001B[49m\u001B[43m,\u001B[49m\u001B[43m \u001B[49m\u001B[43mcol_2\u001B[49m\u001B[43m)\u001B[49m, correction\u001B[38;5;241m=\u001B[39m\u001B[38;5;28;01mTrue\u001B[39;00m)\n",
      "File \u001B[1;32mD:\\Rzeczy na Studia\\Semestr 7\\SUML\\HouseWise\\HouseWise\\venv\\Lib\\site-packages\\pandas\\core\\reshape\\pivot.py:717\u001B[0m, in \u001B[0;36mcrosstab\u001B[1;34m(index, columns, values, rownames, colnames, aggfunc, margins, margins_name, dropna, normalize)\u001B[0m\n\u001B[0;32m    711\u001B[0m \u001B[38;5;28;01mfrom\u001B[39;00m\u001B[38;5;250m \u001B[39m\u001B[38;5;21;01mpandas\u001B[39;00m\u001B[38;5;250m \u001B[39m\u001B[38;5;28;01mimport\u001B[39;00m DataFrame\n\u001B[0;32m    713\u001B[0m data \u001B[38;5;241m=\u001B[39m {\n\u001B[0;32m    714\u001B[0m     \u001B[38;5;241m*\u001B[39m\u001B[38;5;241m*\u001B[39m\u001B[38;5;28mdict\u001B[39m(\u001B[38;5;28mzip\u001B[39m(unique_rownames, index)),\n\u001B[0;32m    715\u001B[0m     \u001B[38;5;241m*\u001B[39m\u001B[38;5;241m*\u001B[39m\u001B[38;5;28mdict\u001B[39m(\u001B[38;5;28mzip\u001B[39m(unique_colnames, columns)),\n\u001B[0;32m    716\u001B[0m }\n\u001B[1;32m--> 717\u001B[0m df \u001B[38;5;241m=\u001B[39m \u001B[43mDataFrame\u001B[49m\u001B[43m(\u001B[49m\u001B[43mdata\u001B[49m\u001B[43m,\u001B[49m\u001B[43m \u001B[49m\u001B[43mindex\u001B[49m\u001B[38;5;241;43m=\u001B[39;49m\u001B[43mcommon_idx\u001B[49m\u001B[43m)\u001B[49m\n\u001B[0;32m    719\u001B[0m \u001B[38;5;28;01mif\u001B[39;00m values \u001B[38;5;129;01mis\u001B[39;00m \u001B[38;5;28;01mNone\u001B[39;00m:\n\u001B[0;32m    720\u001B[0m     df[\u001B[38;5;124m\"\u001B[39m\u001B[38;5;124m__dummy__\u001B[39m\u001B[38;5;124m\"\u001B[39m] \u001B[38;5;241m=\u001B[39m \u001B[38;5;241m0\u001B[39m\n",
      "File \u001B[1;32mD:\\Rzeczy na Studia\\Semestr 7\\SUML\\HouseWise\\HouseWise\\venv\\Lib\\site-packages\\pandas\\core\\frame.py:778\u001B[0m, in \u001B[0;36mDataFrame.__init__\u001B[1;34m(self, data, index, columns, dtype, copy)\u001B[0m\n\u001B[0;32m    772\u001B[0m     mgr \u001B[38;5;241m=\u001B[39m \u001B[38;5;28mself\u001B[39m\u001B[38;5;241m.\u001B[39m_init_mgr(\n\u001B[0;32m    773\u001B[0m         data, axes\u001B[38;5;241m=\u001B[39m{\u001B[38;5;124m\"\u001B[39m\u001B[38;5;124mindex\u001B[39m\u001B[38;5;124m\"\u001B[39m: index, \u001B[38;5;124m\"\u001B[39m\u001B[38;5;124mcolumns\u001B[39m\u001B[38;5;124m\"\u001B[39m: columns}, dtype\u001B[38;5;241m=\u001B[39mdtype, copy\u001B[38;5;241m=\u001B[39mcopy\n\u001B[0;32m    774\u001B[0m     )\n\u001B[0;32m    776\u001B[0m \u001B[38;5;28;01melif\u001B[39;00m \u001B[38;5;28misinstance\u001B[39m(data, \u001B[38;5;28mdict\u001B[39m):\n\u001B[0;32m    777\u001B[0m     \u001B[38;5;66;03m# GH#38939 de facto copy defaults to False only in non-dict cases\u001B[39;00m\n\u001B[1;32m--> 778\u001B[0m     mgr \u001B[38;5;241m=\u001B[39m \u001B[43mdict_to_mgr\u001B[49m\u001B[43m(\u001B[49m\u001B[43mdata\u001B[49m\u001B[43m,\u001B[49m\u001B[43m \u001B[49m\u001B[43mindex\u001B[49m\u001B[43m,\u001B[49m\u001B[43m \u001B[49m\u001B[43mcolumns\u001B[49m\u001B[43m,\u001B[49m\u001B[43m \u001B[49m\u001B[43mdtype\u001B[49m\u001B[38;5;241;43m=\u001B[39;49m\u001B[43mdtype\u001B[49m\u001B[43m,\u001B[49m\u001B[43m \u001B[49m\u001B[43mcopy\u001B[49m\u001B[38;5;241;43m=\u001B[39;49m\u001B[43mcopy\u001B[49m\u001B[43m,\u001B[49m\u001B[43m \u001B[49m\u001B[43mtyp\u001B[49m\u001B[38;5;241;43m=\u001B[39;49m\u001B[43mmanager\u001B[49m\u001B[43m)\u001B[49m\n\u001B[0;32m    779\u001B[0m \u001B[38;5;28;01melif\u001B[39;00m \u001B[38;5;28misinstance\u001B[39m(data, ma\u001B[38;5;241m.\u001B[39mMaskedArray):\n\u001B[0;32m    780\u001B[0m     \u001B[38;5;28;01mfrom\u001B[39;00m\u001B[38;5;250m \u001B[39m\u001B[38;5;21;01mnumpy\u001B[39;00m\u001B[38;5;21;01m.\u001B[39;00m\u001B[38;5;21;01mma\u001B[39;00m\u001B[38;5;250m \u001B[39m\u001B[38;5;28;01mimport\u001B[39;00m mrecords\n",
      "File \u001B[1;32mD:\\Rzeczy na Studia\\Semestr 7\\SUML\\HouseWise\\HouseWise\\venv\\Lib\\site-packages\\pandas\\core\\internals\\construction.py:503\u001B[0m, in \u001B[0;36mdict_to_mgr\u001B[1;34m(data, index, columns, dtype, typ, copy)\u001B[0m\n\u001B[0;32m    499\u001B[0m     \u001B[38;5;28;01melse\u001B[39;00m:\n\u001B[0;32m    500\u001B[0m         \u001B[38;5;66;03m# dtype check to exclude e.g. range objects, scalars\u001B[39;00m\n\u001B[0;32m    501\u001B[0m         arrays \u001B[38;5;241m=\u001B[39m [x\u001B[38;5;241m.\u001B[39mcopy() \u001B[38;5;28;01mif\u001B[39;00m \u001B[38;5;28mhasattr\u001B[39m(x, \u001B[38;5;124m\"\u001B[39m\u001B[38;5;124mdtype\u001B[39m\u001B[38;5;124m\"\u001B[39m) \u001B[38;5;28;01melse\u001B[39;00m x \u001B[38;5;28;01mfor\u001B[39;00m x \u001B[38;5;129;01min\u001B[39;00m arrays]\n\u001B[1;32m--> 503\u001B[0m \u001B[38;5;28;01mreturn\u001B[39;00m \u001B[43marrays_to_mgr\u001B[49m\u001B[43m(\u001B[49m\u001B[43marrays\u001B[49m\u001B[43m,\u001B[49m\u001B[43m \u001B[49m\u001B[43mcolumns\u001B[49m\u001B[43m,\u001B[49m\u001B[43m \u001B[49m\u001B[43mindex\u001B[49m\u001B[43m,\u001B[49m\u001B[43m \u001B[49m\u001B[43mdtype\u001B[49m\u001B[38;5;241;43m=\u001B[39;49m\u001B[43mdtype\u001B[49m\u001B[43m,\u001B[49m\u001B[43m \u001B[49m\u001B[43mtyp\u001B[49m\u001B[38;5;241;43m=\u001B[39;49m\u001B[43mtyp\u001B[49m\u001B[43m,\u001B[49m\u001B[43m \u001B[49m\u001B[43mconsolidate\u001B[49m\u001B[38;5;241;43m=\u001B[39;49m\u001B[43mcopy\u001B[49m\u001B[43m)\u001B[49m\n",
      "File \u001B[1;32mD:\\Rzeczy na Studia\\Semestr 7\\SUML\\HouseWise\\HouseWise\\venv\\Lib\\site-packages\\pandas\\core\\internals\\construction.py:152\u001B[0m, in \u001B[0;36marrays_to_mgr\u001B[1;34m(arrays, columns, index, dtype, verify_integrity, typ, consolidate)\u001B[0m\n\u001B[0;32m    149\u001B[0m axes \u001B[38;5;241m=\u001B[39m [columns, index]\n\u001B[0;32m    151\u001B[0m \u001B[38;5;28;01mif\u001B[39;00m typ \u001B[38;5;241m==\u001B[39m \u001B[38;5;124m\"\u001B[39m\u001B[38;5;124mblock\u001B[39m\u001B[38;5;124m\"\u001B[39m:\n\u001B[1;32m--> 152\u001B[0m     \u001B[38;5;28;01mreturn\u001B[39;00m \u001B[43mcreate_block_manager_from_column_arrays\u001B[49m\u001B[43m(\u001B[49m\n\u001B[0;32m    153\u001B[0m \u001B[43m        \u001B[49m\u001B[43marrays\u001B[49m\u001B[43m,\u001B[49m\u001B[43m \u001B[49m\u001B[43maxes\u001B[49m\u001B[43m,\u001B[49m\u001B[43m \u001B[49m\u001B[43mconsolidate\u001B[49m\u001B[38;5;241;43m=\u001B[39;49m\u001B[43mconsolidate\u001B[49m\u001B[43m,\u001B[49m\u001B[43m \u001B[49m\u001B[43mrefs\u001B[49m\u001B[38;5;241;43m=\u001B[39;49m\u001B[43mrefs\u001B[49m\n\u001B[0;32m    154\u001B[0m \u001B[43m    \u001B[49m\u001B[43m)\u001B[49m\n\u001B[0;32m    155\u001B[0m \u001B[38;5;28;01melif\u001B[39;00m typ \u001B[38;5;241m==\u001B[39m \u001B[38;5;124m\"\u001B[39m\u001B[38;5;124marray\u001B[39m\u001B[38;5;124m\"\u001B[39m:\n\u001B[0;32m    156\u001B[0m     \u001B[38;5;28;01mreturn\u001B[39;00m ArrayManager(arrays, [index, columns])\n",
      "File \u001B[1;32mD:\\Rzeczy na Studia\\Semestr 7\\SUML\\HouseWise\\HouseWise\\venv\\Lib\\site-packages\\pandas\\core\\internals\\managers.py:2139\u001B[0m, in \u001B[0;36mcreate_block_manager_from_column_arrays\u001B[1;34m(arrays, axes, consolidate, refs)\u001B[0m\n\u001B[0;32m   2121\u001B[0m \u001B[38;5;28;01mdef\u001B[39;00m\u001B[38;5;250m \u001B[39m\u001B[38;5;21mcreate_block_manager_from_column_arrays\u001B[39m(\n\u001B[0;32m   2122\u001B[0m     arrays: \u001B[38;5;28mlist\u001B[39m[ArrayLike],\n\u001B[0;32m   2123\u001B[0m     axes: \u001B[38;5;28mlist\u001B[39m[Index],\n\u001B[1;32m   (...)\u001B[0m\n\u001B[0;32m   2135\u001B[0m     \u001B[38;5;66;03m# These last three are sufficient to allow us to safely pass\u001B[39;00m\n\u001B[0;32m   2136\u001B[0m     \u001B[38;5;66;03m#  verify_integrity=False below.\u001B[39;00m\n\u001B[0;32m   2138\u001B[0m     \u001B[38;5;28;01mtry\u001B[39;00m:\n\u001B[1;32m-> 2139\u001B[0m         blocks \u001B[38;5;241m=\u001B[39m \u001B[43m_form_blocks\u001B[49m\u001B[43m(\u001B[49m\u001B[43marrays\u001B[49m\u001B[43m,\u001B[49m\u001B[43m \u001B[49m\u001B[43mconsolidate\u001B[49m\u001B[43m,\u001B[49m\u001B[43m \u001B[49m\u001B[43mrefs\u001B[49m\u001B[43m)\u001B[49m\n\u001B[0;32m   2140\u001B[0m         mgr \u001B[38;5;241m=\u001B[39m BlockManager(blocks, axes, verify_integrity\u001B[38;5;241m=\u001B[39m\u001B[38;5;28;01mFalse\u001B[39;00m)\n\u001B[0;32m   2141\u001B[0m     \u001B[38;5;28;01mexcept\u001B[39;00m \u001B[38;5;167;01mValueError\u001B[39;00m \u001B[38;5;28;01mas\u001B[39;00m e:\n",
      "File \u001B[1;32mD:\\Rzeczy na Studia\\Semestr 7\\SUML\\HouseWise\\HouseWise\\venv\\Lib\\site-packages\\pandas\\core\\internals\\managers.py:2212\u001B[0m, in \u001B[0;36m_form_blocks\u001B[1;34m(arrays, consolidate, refs)\u001B[0m\n\u001B[0;32m   2209\u001B[0m \u001B[38;5;28;01mif\u001B[39;00m \u001B[38;5;28missubclass\u001B[39m(dtype\u001B[38;5;241m.\u001B[39mtype, (\u001B[38;5;28mstr\u001B[39m, \u001B[38;5;28mbytes\u001B[39m)):\n\u001B[0;32m   2210\u001B[0m     dtype \u001B[38;5;241m=\u001B[39m np\u001B[38;5;241m.\u001B[39mdtype(\u001B[38;5;28mobject\u001B[39m)\n\u001B[1;32m-> 2212\u001B[0m values, placement \u001B[38;5;241m=\u001B[39m \u001B[43m_stack_arrays\u001B[49m\u001B[43m(\u001B[49m\u001B[38;5;28;43mlist\u001B[39;49m\u001B[43m(\u001B[49m\u001B[43mtup_block\u001B[49m\u001B[43m)\u001B[49m\u001B[43m,\u001B[49m\u001B[43m \u001B[49m\u001B[43mdtype\u001B[49m\u001B[43m)\u001B[49m\n\u001B[0;32m   2213\u001B[0m \u001B[38;5;28;01mif\u001B[39;00m is_dtlike:\n\u001B[0;32m   2214\u001B[0m     values \u001B[38;5;241m=\u001B[39m ensure_wrapped_if_datetimelike(values)\n",
      "File \u001B[1;32mD:\\Rzeczy na Studia\\Semestr 7\\SUML\\HouseWise\\HouseWise\\venv\\Lib\\site-packages\\pandas\\core\\internals\\managers.py:2254\u001B[0m, in \u001B[0;36m_stack_arrays\u001B[1;34m(tuples, dtype)\u001B[0m\n\u001B[0;32m   2252\u001B[0m stacked \u001B[38;5;241m=\u001B[39m np\u001B[38;5;241m.\u001B[39mempty(shape, dtype\u001B[38;5;241m=\u001B[39mdtype)\n\u001B[0;32m   2253\u001B[0m \u001B[38;5;28;01mfor\u001B[39;00m i, arr \u001B[38;5;129;01min\u001B[39;00m \u001B[38;5;28menumerate\u001B[39m(arrays):\n\u001B[1;32m-> 2254\u001B[0m     stacked[i] \u001B[38;5;241m=\u001B[39m arr\n\u001B[0;32m   2256\u001B[0m \u001B[38;5;28;01mreturn\u001B[39;00m stacked, placement\n",
      "\u001B[1;31mKeyboardInterrupt\u001B[0m: "
     ]
    }
   ],
   "source": [
    "profile = ProfileReport(data, title=\"House Prices\")\n",
    "profile.to_notebook_iframe()\n",
    "profile.to_file(\"reports/profile_report.html\")"
   ]
  },
  {
   "cell_type": "code",
   "execution_count": 39,
   "metadata": {
    "ExecuteTime": {
     "end_time": "2025-01-07T19:22:22.729804Z",
     "start_time": "2025-01-07T19:22:22.663337300Z"
    }
   },
   "outputs": [],
   "source": [
    "X = data.drop(columns=['SalePrice'])\n",
    "y = data['SalePrice']\n",
    "\n",
    "categorical_cols = X.select_dtypes(include=['object']).columns\n",
    "numerical_cols = X.select_dtypes(exclude=['object']).columns\n",
    "\n",
    "numerical_pipeline = Pipeline(steps=[\n",
    "    ('imputer', SimpleImputer(strategy='mean')),\n",
    "    ('scaler', StandardScaler())\n",
    "])\n",
    "\n",
    "categorical_pipeline = Pipeline(steps=[\n",
    "    ('imputer', SimpleImputer(strategy='most_frequent')),\n",
    "    ('onehot', OneHotEncoder(handle_unknown='ignore'))\n",
    "])\n",
    "\n",
    "preprocessor = ColumnTransformer(\n",
    "    transformers=[\n",
    "        ('num', numerical_pipeline, numerical_cols),\n",
    "        ('cat', categorical_pipeline, categorical_cols)\n",
    "    ]\n",
    ")\n",
    "\n",
    "X = preprocessor.fit_transform(X)\n",
    "\n",
    "model = RandomForestRegressor()\n",
    "\n"
   ]
  },
  {
   "cell_type": "code",
   "execution_count": 40,
   "metadata": {
    "ExecuteTime": {
     "end_time": "2025-01-07T19:22:25.368218500Z",
     "start_time": "2025-01-07T19:22:24.463052300Z"
    }
   },
   "outputs": [],
   "source": [
    "X_train, X_test, y_train, y_test = train_test_split(X, y, test_size=0.2, random_state=0)\n",
    "\n",
    "model.fit(X_train, y_train)\n",
    "y_pred = model.predict(X_test)\n"
   ]
  },
  {
   "cell_type": "code",
   "execution_count": 41,
   "metadata": {
    "ExecuteTime": {
     "end_time": "2025-01-07T19:22:25.943007600Z",
     "start_time": "2025-01-07T19:22:25.929482300Z"
    }
   },
   "outputs": [],
   "source": [
    "mae = mean_absolute_error(y_test, y_pred)\n",
    "mse = mean_squared_error(y_test, y_pred)\n",
    "rmse = np.sqrt(mse)\n",
    "r2 = r2_score(y_test, y_pred)"
   ]
  },
  {
   "cell_type": "code",
   "execution_count": 42,
   "metadata": {
    "ExecuteTime": {
     "end_time": "2025-01-07T19:22:27.288839200Z",
     "start_time": "2025-01-07T19:22:27.272169400Z"
    }
   },
   "outputs": [
    {
     "data": {
      "text/plain": "{'MAE': 19666.885122635358,\n 'MSE': 992808140.8454765,\n 'RMSE': np.float64(31508.858132999307),\n 'R2': 0.8562366477666841}"
     },
     "execution_count": 42,
     "metadata": {},
     "output_type": "execute_result"
    }
   ],
   "source": [
    "evaluation_results = {\n",
    "    \"MAE\": mae,\n",
    "    \"MSE\": mse,\n",
    "    \"RMSE\": rmse,\n",
    "    \"R2\": r2\n",
    "}\n",
    "\n",
    "evaluation_results"
   ]
  },
  {
   "cell_type": "code",
   "execution_count": null,
   "outputs": [],
   "source": [],
   "metadata": {
    "collapsed": false,
    "ExecuteTime": {
     "start_time": "2025-01-07T18:38:08.622372900Z"
    }
   }
  }
 ],
 "metadata": {
  "kernelspec": {
   "display_name": "venv",
   "language": "python",
   "name": "python3"
  },
  "language_info": {
   "codemirror_mode": {
    "name": "ipython",
    "version": 3
   },
   "file_extension": ".py",
   "mimetype": "text/x-python",
   "name": "python",
   "nbconvert_exporter": "python",
   "pygments_lexer": "ipython3",
   "version": "3.11.9"
  }
 },
 "nbformat": 4,
 "nbformat_minor": 2
}
